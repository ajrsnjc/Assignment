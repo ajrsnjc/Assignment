{
 "cells": [
  {
   "cell_type": "markdown",
   "id": "48512ad8",
   "metadata": {},
   "source": [
    "### 실습 1.  주어진 정수 리스트 에서 가장 큰 정수가 마지막으로 나타나는 위치를 찾기 (리스트의 원소인 정수들이 서로 다를 필요는 없다.)        \n",
    "\n",
    "#### 주어진 정수 리스트(예; $X=[4,7,9,2,4,9,5,6,7,9,4, 6]$) 에서 최대값을 찾고 이 최대값(max)이 마지막으로 나오는 리스트의 위치(i)를 찾아 ( 리스트 의 원소 위치는 1 부터 시작하는 것으로 한다.) 콘솔 출력으로 \"최대값  max  은(는) 마지막으로 리스트의 i 번째에 위치한다.\" 가 출력되도록 파이썬 코딩하고, 리스트 $X=[4,7,9,2,4,9,5,6,7,9,4, 6]$ 에 대해서 점검하여 보시오. 점검시에,  \"최대값  9  은(는) 마지막으로 리스트의 10 번째에 위치한다.\" 로 출력되도록 함. \n",
    "\n",
    "#### ※ 제한조건 \n",
    "#### * 문제 풀이 중 최대값을 구하는 함수를 직접 만들어야 한다. 만일 만들지 않았고, 파이썬에 있는 max 함수를 사용하거나 외부 라이브러리에서 max 함수를 import 하여 사용할 경우 0점 처리한다."
   ]
  },
  {
   "cell_type": "code",
   "execution_count": 1,
   "id": "965aede4",
   "metadata": {},
   "outputs": [],
   "source": [
    "X=[4,7,9,2,4,9,5,6,7,9,4, 6]\n",
    "\n",
    "def max(x):\n",
    "    max=0\n",
    "    \n",
    "    for (i, n) in enumerate(X):\n",
    "        if max <= n:\n",
    "            max=n\n",
    "            j=i+1\n",
    "            \n",
    "    return  print(\"최대값  %d는 마지막으로 리스트의 %d번째에 위치한다.\" %(max, j))       "
   ]
  },
  {
   "cell_type": "code",
   "execution_count": 2,
   "id": "7030e422",
   "metadata": {},
   "outputs": [
    {
     "name": "stdout",
     "output_type": "stream",
     "text": [
      "최대값  9는 마지막으로 리스트의 10번째에 위치한다.\n"
     ]
    }
   ],
   "source": [
    "max(X)"
   ]
  },
  {
   "cell_type": "markdown",
   "id": "d65eccb4",
   "metadata": {},
   "source": [
    "### 실습 2.   정수 리스트를  난수발생기로 부터 만들어서 최대값이 마지막으로 나오는 위치 찾기 \n",
    "#### 1) 먼저, 0 에서 15 까지의 정수를 난수 발생기로 20개가 생성된 정수 리스트를 콘솔 출력하고  \n",
    "#### 2) \"최대값  max  은(는) 마지막으로 리스트의 i 번째에 위치한다.\" 이 콘솔 출력되도록 파이썬 코딩하여 보시오.\n",
    "#### (리스트의 원소 위치는 1 부터 시작하는 것으로 한다), \n",
    "#### ※ 제한조건 \n",
    "#### * 문제 풀이 중 최대값을 구하는 함수를 직접 만들어야 한다. 만일 만들지 않았고, 파이썬에 있는 max 함수를 사용하거나 외부 라이브러리에서 max 함수를 import 하여 사용할 경우 0점 처리한다"
   ]
  },
  {
   "cell_type": "code",
   "execution_count": 3,
   "id": "026ff54a",
   "metadata": {},
   "outputs": [],
   "source": [
    "def max_pos2(x):    \n",
    "    max=0    \n",
    "    for (i, item) in enumerate(X):\n",
    "        if max <= item:\n",
    "            max=item\n",
    "            pos=i+1\n",
    "            \n",
    "    return  max, pos   "
   ]
  },
  {
   "cell_type": "code",
   "execution_count": 4,
   "id": "f367b637",
   "metadata": {},
   "outputs": [
    {
     "name": "stdout",
     "output_type": "stream",
     "text": [
      "[ 1  7  8  0 10  4  2  6  9  6 11 15  5  3  8  4  8  3  2 10]\n",
      "최대값  15  은(는) 마지막으로 리스트의 12 번째에 위치한다.\n"
     ]
    }
   ],
   "source": [
    "import numpy as np\n",
    "X=np.random.randint(0,16,20)\n",
    "print(X)\n",
    "max, pos= max_pos2(X)\n",
    "print(\"최대값  %d  은(는) 마지막으로 리스트의 %d 번째에 위치한다.\" %(max, pos))       "
   ]
  },
  {
   "cell_type": "markdown",
   "id": "b48c574a",
   "metadata": {},
   "source": [
    "### 실습 3. 주어진 정수 리스트에서  최대값이 나오는 모든 위치 찾기 \n",
    "#### 주어진 정수 리스트에서 최대값의 모든 위치를 찾는 파이썬 함수를 코딩하고 이를 이용하여, 주어진 리스트 $[4,7,9,2,4,9,5,6,7,9,4, 6]$ 에 적용하여 보시오. \n",
    "\n",
    "#### ※ 제한조건 \n",
    "#### * 문제 풀이 중 최대값을 구하는 함수를 직접 만들어야 한다. 만일 만들지 않았고, 파이썬에 있는 max 함수를 사용하거나 외부 라이브러리에서 max 함수를 import 하여 사용할 경우 0점 처리한다"
   ]
  },
  {
   "cell_type": "code",
   "execution_count": 5,
   "id": "031b805f",
   "metadata": {},
   "outputs": [
    {
     "data": {
      "text/plain": [
       "[3, 6, 10]"
      ]
     },
     "execution_count": 5,
     "metadata": {},
     "output_type": "execute_result"
    }
   ],
   "source": [
    "X=[4,7,9,2,4,9,5,6,7,9,4, 6]\n",
    "\n",
    "def max1(x):\n",
    "    max=0\n",
    "    maxx=[]\n",
    "    for item in X:\n",
    "        if max <= item:\n",
    "            max=item\n",
    "    for (i, item) in enumerate(X):\n",
    "        if max == item:\n",
    "            maxx.append(i+1)    \n",
    "    return  maxx\n",
    "\n",
    "max1(X)"
   ]
  },
  {
   "cell_type": "markdown",
   "id": "0147336b",
   "metadata": {},
   "source": [
    "### 실습 4. Insertion Sort (삽입 정렬)\n",
    "#### 삽입 정렬은 간단한 정렬 알고리즘이지만 일반적으로 가장 효율적인 것은 아니다. 앞의 삽입 정렬 의사 코드를 활용하여, 주어진 n 개 요소 목록에 대해 삽입 정렬 알고리즘을 파이썬 함수로 프로그래밍 하여 보시오. \n",
    "#### 0 부터 19까지의 정수 가운데, 랜덤하게 샘플링된 10개의 정수로 구성된 리스트에 대한, 프로그래밍한 파이썬 삽입 정렬 알고리즘 구현 함수에 적용하여 제대로 정렬되는 지를 살펴보시오.  "
   ]
  },
  {
   "cell_type": "code",
   "execution_count": 6,
   "id": "73bd8a69",
   "metadata": {},
   "outputs": [],
   "source": [
    "def Insertion(a):\n",
    "    for j in range(1,len(a)):\n",
    "        i=0        \n",
    "        while(a[j] > a[i]):\n",
    "            i+=1\n",
    "        m=a[j]\n",
    "        for k in range(0, j-i):\n",
    "            a[j-k]=a[j-k-1]\n",
    "        a[i]=m\n",
    "        print(a)\n",
    "    return a"
   ]
  },
  {
   "cell_type": "code",
   "execution_count": 7,
   "id": "7dec4b68",
   "metadata": {},
   "outputs": [
    {
     "name": "stdout",
     "output_type": "stream",
     "text": [
      "[19, 5, 18, 4, 0, 8, 9, 16, 1, 17]\n",
      "[5, 19, 18, 4, 0, 8, 9, 16, 1, 17]\n",
      "[5, 18, 19, 4, 0, 8, 9, 16, 1, 17]\n",
      "[4, 5, 18, 19, 0, 8, 9, 16, 1, 17]\n",
      "[0, 4, 5, 18, 19, 8, 9, 16, 1, 17]\n",
      "[0, 4, 5, 8, 18, 19, 9, 16, 1, 17]\n",
      "[0, 4, 5, 8, 9, 18, 19, 16, 1, 17]\n",
      "[0, 4, 5, 8, 9, 16, 18, 19, 1, 17]\n",
      "[0, 1, 4, 5, 8, 9, 16, 18, 19, 17]\n",
      "[0, 1, 4, 5, 8, 9, 16, 17, 18, 19]\n"
     ]
    },
    {
     "data": {
      "text/plain": [
       "[0, 1, 4, 5, 8, 9, 16, 17, 18, 19]"
      ]
     },
     "execution_count": 7,
     "metadata": {},
     "output_type": "execute_result"
    }
   ],
   "source": [
    "from random import *\n",
    "x=sample(list(range(0,20)), 10)\n",
    "print(x)\n",
    "Insertion(x)"
   ]
  },
  {
   "cell_type": "code",
   "execution_count": null,
   "id": "618bb8a2",
   "metadata": {},
   "outputs": [],
   "source": []
  }
 ],
 "metadata": {
  "kernelspec": {
   "display_name": "Python 3 (ipykernel)",
   "language": "python",
   "name": "python3"
  },
  "language_info": {
   "codemirror_mode": {
    "name": "ipython",
    "version": 3
   },
   "file_extension": ".py",
   "mimetype": "text/x-python",
   "name": "python",
   "nbconvert_exporter": "python",
   "pygments_lexer": "ipython3",
   "version": "3.9.7"
  }
 },
 "nbformat": 4,
 "nbformat_minor": 5
}
